{
 "cells": [
  {
   "cell_type": "code",
   "execution_count": 1,
   "id": "008e210d",
   "metadata": {},
   "outputs": [
    {
     "name": "stdout",
     "output_type": "stream",
     "text": [
      "Welcome to JupyROOT 6.24/00\n",
      "Event 0: var1 = (0.0, 1.0, 2.0), var2 = (0.0, 0.0, 0.0, 0.0)\n",
      "Event 1: var1 = (1.0, 2.0, 3.0), var2 = (10.0, 20.0, 30.0, 40.0)\n",
      "Event 2: var1 = (2.0, 3.0, 4.0), var2 = (20.0, 40.0, 60.0, 80.0)\n",
      "Event 3: var1 = (3.0, 4.0, 5.0), var2 = (30.0, 60.0, 90.0, 120.0)\n",
      "Event 4: var1 = (4.0, 5.0, 6.0), var2 = (40.0, 80.0, 120.0, 160.0)\n",
      "Event 5: var1 = (5.0, 6.0, 7.0), var2 = (50.0, 100.0, 150.0, 200.0)\n",
      "Event 6: var1 = (6.0, 7.0, 8.0), var2 = (60.0, 120.0, 180.0, 240.0)\n",
      "Event 7: var1 = (7.0, 8.0, 9.0), var2 = (70.0, 140.0, 210.0, 280.0)\n",
      "Event 8: var1 = (8.0, 9.0, 10.0), var2 = (80.0, 160.0, 240.0, 320.0)\n",
      "Event 9: var1 = (9.0, 10.0, 11.0), var2 = (90.0, 180.0, 270.0, 360.0)\n"
     ]
    }
   ],
   "source": [
    "import ROOT\n",
    "\n",
    "# Crea un archivo ROOT y un árbol\n",
    "file = ROOT.TFile(\"tree.root\", \"RECREATE\")\n",
    "tree = ROOT.TTree(\"mytree\", \"Example Tree\")\n",
    "\n",
    "# Crea algunas variables y las agrega al árbol\n",
    "var1 = ROOT.TVector3()\n",
    "var2 = ROOT.TLorentzVector()\n",
    "\n",
    "tree.Branch(\"var1\", var1)\n",
    "tree.Branch(\"var2\", var2)\n",
    "\n",
    "for i in range(10):\n",
    "    # Llena las variables con algunos datos ficticios\n",
    "    var1.SetXYZ(i, i+1, i+2)\n",
    "    var2.SetPxPyPzE(i*10, i*20, i*30, i*40)\n",
    "\n",
    "    # Llena el árbol con las variables\n",
    "    tree.Fill()\n",
    "\n",
    "# Guarda el árbol en el archivo ROOT\n",
    "file.Write()\n",
    "\n",
    "# Cierra el archivo ROOT\n",
    "file.Close()\n",
    "\n",
    "# Abre el archivo ROOT y lee el árbol\n",
    "file = ROOT.TFile(\"tree.root\", \"READ\")\n",
    "tree = file.Get(\"mytree\")\n",
    "\n",
    "# Itera sobre las entradas del árbol e imprime los valores de las variables\n",
    "for i, event in enumerate(tree):\n",
    "    print(f\"Event {i}: var1 = ({event.var1.x()}, {event.var1.y()}, {event.var1.z()}), var2 = ({event.var2.Px()}, {event.var2.Py()}, {event.var2.Pz()}, {event.var2.E()})\")\n",
    "\n",
    "# Cierra el archivo ROOT\n",
    "file.Close()\n"
   ]
  },
  {
   "cell_type": "code",
   "execution_count": 2,
   "id": "4b69ad09",
   "metadata": {},
   "outputs": [
    {
     "name": "stderr",
     "output_type": "stream",
     "text": [
      "Warning in <TBrowser::TBrowser>: The ROOT browser cannot run in batch mode\n"
     ]
    }
   ],
   "source": [
    "import ROOT\n",
    "\n",
    "# Habilita la visualización JSROOT\n",
    "ROOT.enableJSVis()\n",
    "\n",
    "# Abre el archivo ROOT\n",
    "file = ROOT.TFile(\"tree.root\")\n",
    "\n",
    "# Crea un TBrowser y agrega el archivo al mismo\n",
    "browser = ROOT.TBrowser()\n",
    "browser.Add(file)\n"
   ]
  },
  {
   "cell_type": "code",
   "execution_count": null,
   "id": "83e6d62b",
   "metadata": {},
   "outputs": [],
   "source": []
  }
 ],
 "metadata": {
  "kernelspec": {
   "display_name": "ROOT CERN",
   "language": "python",
   "name": "root"
  },
  "language_info": {
   "codemirror_mode": {
    "name": "ipython",
    "version": 3
   },
   "file_extension": ".py",
   "mimetype": "text/x-python",
   "name": "python",
   "nbconvert_exporter": "python",
   "pygments_lexer": "ipython3",
   "version": "3.8.10"
  }
 },
 "nbformat": 4,
 "nbformat_minor": 5
}
